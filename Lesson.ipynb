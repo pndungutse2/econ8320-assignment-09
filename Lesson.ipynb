{
 "cells": [
  {
   "cell_type": "markdown",
   "id": "ae46a534-3fb2-431b-9a2e-aced08023ac0",
   "metadata": {},
   "source": [
    "## Web APIs - The Alternative to Scraping"
   ]
  },
  {
   "cell_type": "markdown",
   "id": "2a5393a0-6934-4189-8d87-090f7feea125",
   "metadata": {},
   "source": [
    "Web scraping doesn't always work. Many modern websites are built in a way that makes it particularly hard to scrape. They may do one of the following:\n",
    "\n",
    "- Incorporate \"infinite scrolling\", so that the page that is loaded is not the same as the content you want to scrape\n",
    "- Block scraping through bot detection\n",
    "- Have a website sufficiently complex that scraping is too hard to implement\n",
    "\n",
    "Why would websites actively discourage or even make scraping impossible? For the most part, we can imagine websites as a storefront. The website is designed to provide some good or service in exchange for either money (through purchases) or in exchange for the consumption of advertisements or other forms of compensation. Although these \"storefronts\" are online, they are not costless. \n",
    "\n",
    "Every time a website is requested, the server must send that information to the person/computer/bot that has requested it. This might be very cheap for a single request, but these costs add up when hundreds, thousands, or even millions of requests must be processed. When we scrape a website, we are in essence trying to collect a good (data) without compensating the group who maintains the website. For this reason, many websites will seek to block web scraping whenever they detect it, and will include a statement to this effect in their terms of service.\n",
    "\n",
    "In cases where scraping is not feasible for one reason or another, we will need an alternative way to collect data. Web APIs will be our key to data collection in these situations.\n"
   ]
  },
  {
   "cell_type": "markdown",
   "id": "23fbaebd-86ae-4280-85d3-103a06e42686",
   "metadata": {},
   "source": [
    "## What are web APIs?\n",
    "\n",
    "The acronym **API** stands for **Application Programming Interface**, and is the name for the way in which a program or user may communicate with another program. Using an API enables the creation of explicit mechanisms for input and output of data.\n",
    "\n",
    "A **web API** is simply the API that allows users and programs to interact with a website or web service, so that we can automate or streamline online interactions. APIs are used for the following (and much more!):\n",
    "\n",
    "- 3rd party social media apps\n",
    "- Map interfaces on business websites\n",
    "- Data collection\n",
    "\n",
    "\n",
    "### Comparing APIs to Scraping\n",
    "\n",
    "When using a web API, our process is very different than when we scrape. As discussed earlier, scraping typically occurs at the expense of the service provider, making many websites averse to allowing scraping to take place. On the other hand, when using an API, there is an explicit agreement between the provider of data and the consumer. In many cases, APIs cost money to use, and are designed to compensate the service provider in a transaction reflecting the fact that the consumer no longer seeks to buy a good/service on the website or view advertisements. Instead, the data being transferred is the product to be consumed.\n",
    "\n",
    "While we will use a free and open API to learn during this class, bear in mind that many (if not most) APIs will require the user to register before making requests, and may also require payment. This arrangement allows both users and providers to benefit from the exchange of data.\n"
   ]
  },
  {
   "cell_type": "markdown",
   "id": "77c5c1ae-1764-4b51-bd36-5f5a3ce156cc",
   "metadata": {},
   "source": [
    "## Using a web API\n",
    "\n",
    "To learn about using web APIs, we will experiment with the free location API provided by [zippopotam.us](http://www.zippopotam.us/). We will learn the basics of API use with the simple examples that can be implemented through the Zippopotamus API, and hopefully make some fun graphs while we are at it!\n",
    "\n",
    "Most web APIs are accessed through the use of a URL, just like any other website. We then use the various extensions of the URL to make a request for an API call, rather than to request a specific website. Let's give this a try with the `requests` library, and see what we get back as we request various URLs from Zippopotamus:"
   ]
  },
  {
   "cell_type": "code",
   "id": "46fe937a-474d-40e8-8a46-f63f73fa00dd",
   "metadata": {
    "ExecuteTime": {
     "end_time": "2024-11-05T11:15:12.539026Z",
     "start_time": "2024-11-05T11:15:12.067315Z"
    }
   },
   "source": [
    "import requests\n",
    "\n",
    "requests.get(\"https://api.zippopotam.us/us/68022\").text"
   ],
   "outputs": [
    {
     "data": {
      "text/plain": [
       "'{\"post code\": \"68022\", \"country\": \"United States\", \"country abbreviation\": \"US\", \"places\": [{\"place name\": \"Elkhorn\", \"longitude\": \"-96.2431\", \"state\": \"Nebraska\", \"state abbreviation\": \"NE\", \"latitude\": \"41.2756\"}]}'"
      ]
     },
     "execution_count": 1,
     "metadata": {},
     "output_type": "execute_result"
    }
   ],
   "execution_count": 1
  },
  {
   "cell_type": "markdown",
   "id": "107b08c6-3ae5-4cfb-98aa-e253d5068529",
   "metadata": {},
   "source": [
    "    '{\"post code\": \"68022\", \"country\": \"United States\", \"country abbreviation\": \"US\", \"places\": [{\"place name\": \"Elkhorn\", \"longitude\": \"-96.2431\", \"state\": \"Nebraska\", \"state abbreviation\": \"NE\", \"latitude\": \"41.2756\"}]}'"
   ]
  },
  {
   "cell_type": "markdown",
   "id": "bdb7f50b-427c-42b5-a43e-566b2cc0823b",
   "metadata": {},
   "source": [
    "Cool! We got some random stuff when we requested a random page from Zippopotamus... What is this? Let's break down our URL to learn more about what is going on:\n",
    "\n",
    " - `https://api.zippopotam.us` is the URL that we will always call when making requests to or from Zippopotamus\n",
    " - `/us` tells Zippopotamus that the location we are referencing is in the United States\n",
    " - `/68022` is the postal code for which we want to extract information from Zippopotamus\n",
    " \n",
    "The data that we receive back from our request is information about the postal code that we want to examine. Before we start learning how to work with our results, let's try another API call:"
   ]
  },
  {
   "cell_type": "markdown",
   "id": "04922d3f-5031-4014-8d45-c5890a32fc14",
   "metadata": {},
   "source": [
    "requests.get(\"https://api.zippopotam.us/us/wa/redmond\").text"
   ]
  },
  {
   "cell_type": "markdown",
   "id": "d01a5dfa-49ee-4835-a3d6-c5e5992a7139",
   "metadata": {},
   "source": [
    "    '{\"country abbreviation\": \"US\", \"places\": [{\"place name\": \"Redmond\", \"longitude\": \"-122.1232\", \"post code\": \"98052\", \"latitude\": \"47.6718\"}, {\"place name\": \"Redmond\", \"longitude\": \"-122.0386\", \"post code\": \"98053\", \"latitude\": \"47.6462\"}, {\"place name\": \"Redmond\", \"longitude\": \"-121.8034\", \"post code\": \"98073\", \"latitude\": \"47.4323\"}], \"country\": \"United States\", \"place name\": \"Redmond\", \"state\": \"Washington\", \"state abbreviation\": \"WA\"}'\n",
    "\n",
    "\n",
    "\n",
    "In this new request, we have the following:\n",
    "\n",
    "- `https://api.zippopotam.us` is the URL that we will always call when making requests to or from Zippopotamus\n",
    "- `/us` tells Zippopotamus that the location we are referencing is in the United States\n",
    "- `/wa` tells Zippopotamus that the location is in Washington state\n",
    "- `/redmond` is the city for which we would like to extract information\n",
    "\n",
    "As might be evident from the differences between the two requests we have made, many APIs are able to access different kinds of information depending on the different requests that we make. We can find information on the city in which a postal code is located, or we can find postal codes within a city of interest! This will allow us to make requests that will generate a map of places that I have lived during my life. Let's try it out."
   ]
  },
  {
   "cell_type": "code",
   "id": "03c15d92-7c94-4b38-9ee8-5e595353086f",
   "metadata": {
    "ExecuteTime": {
     "end_time": "2024-11-05T11:16:34.660656Z",
     "start_time": "2024-11-05T11:16:34.656788Z"
    }
   },
   "source": [
    "livedThere = [\n",
    "    {\"country\": \"/us\", \"postal_code\": \"/92056\"},\n",
    "    {\"country\": \"/us\", \"postal_code\": \"/98052\"},\n",
    "    {\"country\": \"/us\", \"postal_code\": \"/84602\"},\n",
    "    {\"country\": \"/br\", \"postal_code\": \"/96225-000\"},\n",
    "    {\"country\": \"/br\", \"postal_code\": \"/96600-000\"},\n",
    "    {\"country\": \"/us\", \"postal_code\": \"/99163\"},\n",
    "    {\"country\": \"/us\", \"postal_code\": \"/68022\"},\n",
    "    {\"country\": \"/us\", \"postal_code\": \"/84102\"},\n",
    "]"
   ],
   "outputs": [],
   "execution_count": 2
  },
  {
   "cell_type": "markdown",
   "id": "986d91f3-cd63-4dcc-acdb-b0656a169619",
   "metadata": {},
   "source": [
    "The cell above contains a list of dictionaries. I will iterate over this list to create my API calls:"
   ]
  },
  {
   "cell_type": "code",
   "id": "8df503a9-dbad-43c2-ba76-b39fb64ec383",
   "metadata": {
    "ExecuteTime": {
     "end_time": "2024-11-05T11:17:04.166788Z",
     "start_time": "2024-11-05T11:17:04.163339Z"
    }
   },
   "source": [
    "for i in livedThere:\n",
    "    call = \"https://api.zippopotam.us{0}{1}\".format(i[\"country\"],i[\"postal_code\"])\n",
    "    print(call)"
   ],
   "outputs": [
    {
     "name": "stdout",
     "output_type": "stream",
     "text": [
      "https://api.zippopotam.us/us/92056\n",
      "https://api.zippopotam.us/us/98052\n",
      "https://api.zippopotam.us/us/84602\n",
      "https://api.zippopotam.us/br/96225-000\n",
      "https://api.zippopotam.us/br/96600-000\n",
      "https://api.zippopotam.us/us/99163\n",
      "https://api.zippopotam.us/us/68022\n",
      "https://api.zippopotam.us/us/84102\n"
     ]
    }
   ],
   "execution_count": 3
  },
  {
   "cell_type": "markdown",
   "id": "054691ba-437e-443e-8b06-a123b9bfb9dd",
   "metadata": {},
   "source": [
    "    https://api.zippopotam.us/us/92056\n",
    "    https://api.zippopotam.us/us/98052\n",
    "    https://api.zippopotam.us/us/84602\n",
    "    https://api.zippopotam.us/br/96225-000\n",
    "    https://api.zippopotam.us/br/96600-000\n",
    "    https://api.zippopotam.us/us/99163\n",
    "    https://api.zippopotam.us/us/68022\n",
    "    https://api.zippopotam.us/us/84102\n",
    "\n",
    "\n",
    "The above code combines my country codes for each location with the postal code and the base-URL to provide my API call. Now it is time to write some code to retrieve each request and store the results in a new list:"
   ]
  },
  {
   "cell_type": "code",
   "id": "da4d6a90-afef-45a0-b031-1f69a75c24f5",
   "metadata": {
    "ExecuteTime": {
     "end_time": "2024-11-05T11:18:25.862146Z",
     "start_time": "2024-11-05T11:18:23.391180Z"
    }
   },
   "source": [
    "locales = []\n",
    "\n",
    "for i in livedThere:\n",
    "    call = \"https://api.zippopotam.us{0}{1}\".format(i[\"country\"],i[\"postal_code\"])\n",
    "    locales.append(requests.get(call).text)\n",
    "    \n",
    "locales"
   ],
   "outputs": [
    {
     "data": {
      "text/plain": [
       "['{\"post code\": \"92056\", \"country\": \"United States\", \"country abbreviation\": \"US\", \"places\": [{\"place name\": \"Oceanside\", \"longitude\": \"-117.2831\", \"state\": \"California\", \"state abbreviation\": \"CA\", \"latitude\": \"33.1968\"}]}',\n",
       " '{\"post code\": \"98052\", \"country\": \"United States\", \"country abbreviation\": \"US\", \"places\": [{\"place name\": \"Redmond\", \"longitude\": \"-122.1232\", \"state\": \"Washington\", \"state abbreviation\": \"WA\", \"latitude\": \"47.6718\"}]}',\n",
       " '{\"post code\": \"84602\", \"country\": \"United States\", \"country abbreviation\": \"US\", \"places\": [{\"place name\": \"Provo\", \"longitude\": \"-111.7325\", \"state\": \"Utah\", \"state abbreviation\": \"UT\", \"latitude\": \"40.3563\"}]}',\n",
       " '{\"post code\": \"96225-000\", \"country\": \"Brazil\", \"country abbreviation\": \"BR\", \"places\": [{\"place name\": \"S\\\\u00e3o Jos\\\\u00e9 do Norte\", \"longitude\": \"-51.762\", \"state\": \"Rio Grande do Sul\", \"state abbreviation\": \"23\", \"latitude\": \"-31.8009\"}]}',\n",
       " '{\"post code\": \"96600-000\", \"country\": \"Brazil\", \"country abbreviation\": \"BR\", \"places\": [{\"place name\": \"Cangu\\\\u00e7u\", \"longitude\": \"-52.6682\", \"state\": \"Rio Grande do Sul\", \"state abbreviation\": \"23\", \"latitude\": \"-31.2117\"}]}',\n",
       " '{\"post code\": \"99163\", \"country\": \"United States\", \"country abbreviation\": \"US\", \"places\": [{\"place name\": \"Pullman\", \"longitude\": \"-117.1729\", \"state\": \"Washington\", \"state abbreviation\": \"WA\", \"latitude\": \"46.7352\"}]}',\n",
       " '{\"post code\": \"68022\", \"country\": \"United States\", \"country abbreviation\": \"US\", \"places\": [{\"place name\": \"Elkhorn\", \"longitude\": \"-96.2431\", \"state\": \"Nebraska\", \"state abbreviation\": \"NE\", \"latitude\": \"41.2756\"}]}',\n",
       " '{\"post code\": \"84102\", \"country\": \"United States\", \"country abbreviation\": \"US\", \"places\": [{\"place name\": \"Salt Lake City\", \"longitude\": \"-111.8627\", \"state\": \"Utah\", \"state abbreviation\": \"UT\", \"latitude\": \"40.76\"}]}']"
      ]
     },
     "execution_count": 4,
     "metadata": {},
     "output_type": "execute_result"
    }
   ],
   "execution_count": 4
  },
  {
   "cell_type": "markdown",
   "id": "41cf6d1b-5b6b-4ed2-bc43-abc4a516e10b",
   "metadata": {},
   "source": [
    "    ['{\"post code\": \"92056\", \"country\": \"United States\", \"country abbreviation\": \"US\", \"places\": [{\"place name\": \"Oceanside\", \"longitude\": \"-117.2831\", \"state\": \"California\", \"state abbreviation\": \"CA\", \"latitude\": \"33.1968\"}]}',\n",
    "     '{\"post code\": \"98052\", \"country\": \"United States\", \"country abbreviation\": \"US\", \"places\": [{\"place name\": \"Redmond\", \"longitude\": \"-122.1232\", \"state\": \"Washington\", \"state abbreviation\": \"WA\", \"latitude\": \"47.6718\"}]}',\n",
    "     '{\"post code\": \"84602\", \"country\": \"United States\", \"country abbreviation\": \"US\", \"places\": [{\"place name\": \"Provo\", \"longitude\": \"-111.7325\", \"state\": \"Utah\", \"state abbreviation\": \"UT\", \"latitude\": \"40.3563\"}]}',\n",
    "     '{\"post code\": \"96225-000\", \"country\": \"Brazil\", \"country abbreviation\": \"BR\", \"places\": [{\"place name\": \"S\\\\u00e3o Jos\\\\u00e9 do Norte\", \"longitude\": \"-51.762\", \"state\": \"Rio Grande do Sul\", \"state abbreviation\": \"23\", \"latitude\": \"-31.8009\"}]}',\n",
    "     '{\"post code\": \"96600-000\", \"country\": \"Brazil\", \"country abbreviation\": \"BR\", \"places\": [{\"place name\": \"Cangu\\\\u00e7u\", \"longitude\": \"-52.6682\", \"state\": \"Rio Grande do Sul\", \"state abbreviation\": \"23\", \"latitude\": \"-31.2117\"}]}',\n",
    "     '{\"post code\": \"99163\", \"country\": \"United States\", \"country abbreviation\": \"US\", \"places\": [{\"place name\": \"Pullman\", \"longitude\": \"-117.1729\", \"state\": \"Washington\", \"state abbreviation\": \"WA\", \"latitude\": \"46.7352\"}]}',\n",
    "     '{\"post code\": \"68022\", \"country\": \"United States\", \"country abbreviation\": \"US\", \"places\": [{\"place name\": \"Elkhorn\", \"longitude\": \"-96.2431\", \"state\": \"Nebraska\", \"state abbreviation\": \"NE\", \"latitude\": \"41.2756\"}]}',\n",
    "     '{\"post code\": \"84102\", \"country\": \"United States\", \"country abbreviation\": \"US\", \"places\": [{\"place name\": \"Salt Lake City\", \"longitude\": \"-111.8627\", \"state\": \"Utah\", \"state abbreviation\": \"UT\", \"latitude\": \"40.76\"}]}']\n",
    "\n",
    "\n",
    "\n",
    "Awesome! We have the results! Except, they are really garbled....now we need to take these results and clean them up into a useable format. Let's figure out how."
   ]
  },
  {
   "cell_type": "markdown",
   "id": "aedce013-e281-4f9d-8166-c2f4de568f13",
   "metadata": {},
   "source": [
    "## Processing `requests` results\n",
    "\n",
    "Each response from a web API will typically be returned in a **JSON** object. **JSON** stands for **Java Script Object Notation**, and is the standard format for transmitting information on the internet. While this may sound confusing, JSON is actually very easy for us to handle in Python, because it is structured EXACTLY like a Python dictionary. All we need is a way to take a JSON object and translate it into an official `dict` object.\n",
    "\n",
    "Lucky for us, the `json` library (built right into Python itself!) will make this an easy exercise."
   ]
  },
  {
   "cell_type": "code",
   "id": "203ef0b1-794d-49f5-9638-b0add95b9f00",
   "metadata": {
    "ExecuteTime": {
     "end_time": "2024-11-05T11:19:04.420819Z",
     "start_time": "2024-11-05T11:19:04.415216Z"
    }
   },
   "source": [
    "import json\n",
    "\n",
    "locales = [json.loads(i) for i in locales]\n",
    "\n",
    "locales"
   ],
   "outputs": [
    {
     "data": {
      "text/plain": [
       "[{'post code': '92056',\n",
       "  'country': 'United States',\n",
       "  'country abbreviation': 'US',\n",
       "  'places': [{'place name': 'Oceanside',\n",
       "    'longitude': '-117.2831',\n",
       "    'state': 'California',\n",
       "    'state abbreviation': 'CA',\n",
       "    'latitude': '33.1968'}]},\n",
       " {'post code': '98052',\n",
       "  'country': 'United States',\n",
       "  'country abbreviation': 'US',\n",
       "  'places': [{'place name': 'Redmond',\n",
       "    'longitude': '-122.1232',\n",
       "    'state': 'Washington',\n",
       "    'state abbreviation': 'WA',\n",
       "    'latitude': '47.6718'}]},\n",
       " {'post code': '84602',\n",
       "  'country': 'United States',\n",
       "  'country abbreviation': 'US',\n",
       "  'places': [{'place name': 'Provo',\n",
       "    'longitude': '-111.7325',\n",
       "    'state': 'Utah',\n",
       "    'state abbreviation': 'UT',\n",
       "    'latitude': '40.3563'}]},\n",
       " {'post code': '96225-000',\n",
       "  'country': 'Brazil',\n",
       "  'country abbreviation': 'BR',\n",
       "  'places': [{'place name': 'São José do Norte',\n",
       "    'longitude': '-51.762',\n",
       "    'state': 'Rio Grande do Sul',\n",
       "    'state abbreviation': '23',\n",
       "    'latitude': '-31.8009'}]},\n",
       " {'post code': '96600-000',\n",
       "  'country': 'Brazil',\n",
       "  'country abbreviation': 'BR',\n",
       "  'places': [{'place name': 'Canguçu',\n",
       "    'longitude': '-52.6682',\n",
       "    'state': 'Rio Grande do Sul',\n",
       "    'state abbreviation': '23',\n",
       "    'latitude': '-31.2117'}]},\n",
       " {'post code': '99163',\n",
       "  'country': 'United States',\n",
       "  'country abbreviation': 'US',\n",
       "  'places': [{'place name': 'Pullman',\n",
       "    'longitude': '-117.1729',\n",
       "    'state': 'Washington',\n",
       "    'state abbreviation': 'WA',\n",
       "    'latitude': '46.7352'}]},\n",
       " {'post code': '68022',\n",
       "  'country': 'United States',\n",
       "  'country abbreviation': 'US',\n",
       "  'places': [{'place name': 'Elkhorn',\n",
       "    'longitude': '-96.2431',\n",
       "    'state': 'Nebraska',\n",
       "    'state abbreviation': 'NE',\n",
       "    'latitude': '41.2756'}]},\n",
       " {'post code': '84102',\n",
       "  'country': 'United States',\n",
       "  'country abbreviation': 'US',\n",
       "  'places': [{'place name': 'Salt Lake City',\n",
       "    'longitude': '-111.8627',\n",
       "    'state': 'Utah',\n",
       "    'state abbreviation': 'UT',\n",
       "    'latitude': '40.76'}]}]"
      ]
     },
     "execution_count": 5,
     "metadata": {},
     "output_type": "execute_result"
    }
   ],
   "execution_count": 5
  },
  {
   "cell_type": "markdown",
   "id": "64c1b15a-db6e-47e7-abbd-da78c543aa7f",
   "metadata": {},
   "source": [
    "    [{'post code': '92056',\n",
    "      'country': 'United States',\n",
    "      'country abbreviation': 'US',\n",
    "      'places': [{'place name': 'Oceanside',\n",
    "        'longitude': '-117.2831',\n",
    "        'state': 'California',\n",
    "        'state abbreviation': 'CA',\n",
    "        'latitude': '33.1968'}]},\n",
    "     {'post code': '98052',\n",
    "      'country': 'United States',\n",
    "      'country abbreviation': 'US',\n",
    "      'places': [{'place name': 'Redmond',\n",
    "        'longitude': '-122.1232',\n",
    "        'state': 'Washington',\n",
    "        'state abbreviation': 'WA',\n",
    "        'latitude': '47.6718'}]},\n",
    "     {'post code': '84602',\n",
    "      'country': 'United States',\n",
    "      'country abbreviation': 'US',\n",
    "      'places': [{'place name': 'Provo',\n",
    "        'longitude': '-111.7325',\n",
    "        'state': 'Utah',\n",
    "        'state abbreviation': 'UT',\n",
    "        'latitude': '40.3563'}]},\n",
    "     {'post code': '96225-000',\n",
    "      'country': 'Brazil',\n",
    "      'country abbreviation': 'BR',\n",
    "      'places': [{'place name': 'São José do Norte',\n",
    "        'longitude': '-51.762',\n",
    "        'state': 'Rio Grande do Sul',\n",
    "        'state abbreviation': '23',\n",
    "        'latitude': '-31.8009'}]},\n",
    "     {'post code': '96600-000',\n",
    "      'country': 'Brazil',\n",
    "      'country abbreviation': 'BR',\n",
    "      'places': [{'place name': 'Canguçu',\n",
    "        'longitude': '-52.6682',\n",
    "        'state': 'Rio Grande do Sul',\n",
    "        'state abbreviation': '23',\n",
    "        'latitude': '-31.2117'}]},\n",
    "     {'post code': '99163',\n",
    "      'country': 'United States',\n",
    "      'country abbreviation': 'US',\n",
    "      'places': [{'place name': 'Pullman',\n",
    "        'longitude': '-117.1729',\n",
    "        'state': 'Washington',\n",
    "        'state abbreviation': 'WA',\n",
    "        'latitude': '46.7352'}]},\n",
    "     {'post code': '68022',\n",
    "      'country': 'United States',\n",
    "      'country abbreviation': 'US',\n",
    "      'places': [{'place name': 'Elkhorn',\n",
    "        'longitude': '-96.2431',\n",
    "        'state': 'Nebraska',\n",
    "        'state abbreviation': 'NE',\n",
    "        'latitude': '41.2756'}]},\n",
    "     {'post code': '84102',\n",
    "      'country': 'United States',\n",
    "      'country abbreviation': 'US',\n",
    "      'places': [{'place name': 'Salt Lake City',\n",
    "        'longitude': '-111.8627',\n",
    "        'state': 'Utah',\n",
    "        'state abbreviation': 'UT',\n",
    "        'latitude': '40.76'}]}]\n",
    "\n",
    "\n",
    "\n",
    "And we are done making our data into Python data! That was easy! Next, let's just take this list of dictionaries, and make it into a Data Frame. It turns out that we can write a little bit of code to make Data Frames out of our API results through `pandas`:"
   ]
  },
  {
   "cell_type": "code",
   "execution_count": null,
   "id": "760cbf52-b40e-4ef9-84bd-c962495b2347",
   "metadata": {},
   "outputs": [],
   "source": [
    "import pandas as pd\n",
    "\n",
    "locales = pd.DataFrame(locales)\n",
    "\n",
    "data = []\n",
    "for i in locales.index:\n",
    "    temp = pd.DataFrame(locales.loc[i, 'places'])\n",
    "    temp['post_code'] = locales.loc[i, 'post code']\n",
    "    temp['country'] = locales.loc[i, 'country']\n",
    "    temp['country_code'] = locales.loc[i, 'country abbreviation']\n",
    "    data.append(temp)\n",
    "    \n",
    "data = pd.concat(data, axis=0).reset_index(drop=True)\n",
    "\n",
    "data"
   ]
  },
  {
   "cell_type": "markdown",
   "id": "db9476f8-83df-44b1-ab91-7b9abea70544",
   "metadata": {},
   "source": [
    "<div>\n",
    "<style scoped>\n",
    "    .dataframe tbody tr th:only-of-type {\n",
    "        vertical-align: middle;\n",
    "    }\n",
    "\n",
    "    .dataframe tbody tr th {\n",
    "        vertical-align: top;\n",
    "    }\n",
    "\n",
    "    .dataframe thead th {\n",
    "        text-align: right;\n",
    "    }\n",
    "</style>\n",
    "<table border=\"1\" class=\"dataframe\">\n",
    "  <thead>\n",
    "    <tr style=\"text-align: right;\">\n",
    "      <th></th>\n",
    "      <th>place name</th>\n",
    "      <th>longitude</th>\n",
    "      <th>state</th>\n",
    "      <th>state abbreviation</th>\n",
    "      <th>latitude</th>\n",
    "      <th>post_code</th>\n",
    "      <th>country</th>\n",
    "      <th>country_code</th>\n",
    "    </tr>\n",
    "  </thead>\n",
    "  <tbody>\n",
    "    <tr>\n",
    "      <th>0</th>\n",
    "      <td>Oceanside</td>\n",
    "      <td>-117.2831</td>\n",
    "      <td>California</td>\n",
    "      <td>CA</td>\n",
    "      <td>33.1968</td>\n",
    "      <td>92056</td>\n",
    "      <td>United States</td>\n",
    "      <td>US</td>\n",
    "    </tr>\n",
    "    <tr>\n",
    "      <th>1</th>\n",
    "      <td>Redmond</td>\n",
    "      <td>-122.1232</td>\n",
    "      <td>Washington</td>\n",
    "      <td>WA</td>\n",
    "      <td>47.6718</td>\n",
    "      <td>98052</td>\n",
    "      <td>United States</td>\n",
    "      <td>US</td>\n",
    "    </tr>\n",
    "    <tr>\n",
    "      <th>2</th>\n",
    "      <td>Provo</td>\n",
    "      <td>-111.7325</td>\n",
    "      <td>Utah</td>\n",
    "      <td>UT</td>\n",
    "      <td>40.3563</td>\n",
    "      <td>84602</td>\n",
    "      <td>United States</td>\n",
    "      <td>US</td>\n",
    "    </tr>\n",
    "    <tr>\n",
    "      <th>3</th>\n",
    "      <td>São José do Norte</td>\n",
    "      <td>-51.762</td>\n",
    "      <td>Rio Grande do Sul</td>\n",
    "      <td>23</td>\n",
    "      <td>-31.8009</td>\n",
    "      <td>96225-000</td>\n",
    "      <td>Brazil</td>\n",
    "      <td>BR</td>\n",
    "    </tr>\n",
    "    <tr>\n",
    "      <th>4</th>\n",
    "      <td>Canguçu</td>\n",
    "      <td>-52.6682</td>\n",
    "      <td>Rio Grande do Sul</td>\n",
    "      <td>23</td>\n",
    "      <td>-31.2117</td>\n",
    "      <td>96600-000</td>\n",
    "      <td>Brazil</td>\n",
    "      <td>BR</td>\n",
    "    </tr>\n",
    "    <tr>\n",
    "      <th>5</th>\n",
    "      <td>Pullman</td>\n",
    "      <td>-117.1729</td>\n",
    "      <td>Washington</td>\n",
    "      <td>WA</td>\n",
    "      <td>46.7352</td>\n",
    "      <td>99163</td>\n",
    "      <td>United States</td>\n",
    "      <td>US</td>\n",
    "    </tr>\n",
    "    <tr>\n",
    "      <th>6</th>\n",
    "      <td>Elkhorn</td>\n",
    "      <td>-96.2431</td>\n",
    "      <td>Nebraska</td>\n",
    "      <td>NE</td>\n",
    "      <td>41.2756</td>\n",
    "      <td>68022</td>\n",
    "      <td>United States</td>\n",
    "      <td>US</td>\n",
    "    </tr>\n",
    "    <tr>\n",
    "      <th>7</th>\n",
    "      <td>Salt Lake City</td>\n",
    "      <td>-111.8627</td>\n",
    "      <td>Utah</td>\n",
    "      <td>UT</td>\n",
    "      <td>40.76</td>\n",
    "      <td>84102</td>\n",
    "      <td>United States</td>\n",
    "      <td>US</td>\n",
    "    </tr>\n",
    "  </tbody>\n",
    "</table>\n",
    "</div>\n",
    "\n",
    "\n",
    "\n",
    "Now that we have a nice, clean Data Frame containing the information on different locations, we can make a map out of it (we will cover mapping later in this course):"
   ]
  },
  {
   "cell_type": "code",
   "execution_count": null,
   "id": "1027c7a1-d70f-4477-845c-75f637a746bf",
   "metadata": {},
   "outputs": [],
   "source": [
    "import plotly.express as px\n",
    "\n",
    "px.scatter_geo(data, 'latitude', 'longitude', \n",
    "               hover_data=['place name', 'state', 'country'], \n",
    "               color='country', \n",
    "               projection = 'natural earth',\n",
    "               width = 900,\n",
    "               height = 600,\n",
    "               )"
   ]
  },
  {
   "cell_type": "markdown",
   "id": "90377ded-981a-416c-9aa2-20f46a279466",
   "metadata": {},
   "source": [
    "And there you have it! A map of places that I have lived!\n",
    "\n",
    "![](newplot.png)\n",
    "\n",
    "It really looks a lot less impressive on a world map...\n",
    "\n",
    "APIs will allow us to do all sorts of amazing work. Some APIs that are awesome but require accounts are listed below:\n",
    "\n",
    "- [Twitter Realtime Tweet Filter](https://developer.twitter.com/en/docs/tweets/filter-realtime/overview)\n",
    "- [Tracker.gg](https://tracker.gg/)\n",
    "- [Google Maps Distance Matrix](https://developers.google.com/maps/documentation/distance-matrix/intro)\n",
    "\n",
    "With web scraping and APIs at our fingertips, our ability to gather and investigate data is limited only by our ability to come up with interesting research questions."
   ]
  },
  {
   "cell_type": "markdown",
   "id": "61705461-c2bf-46c9-9ed4-d741093b565d",
   "metadata": {},
   "source": [
    "**Solve-it!**\n",
    "\n",
    "In the cell commented with `#si-exercise` is a Data Frame called `capitals` containing capital cities in states across the United States. Use the [Zippopotam.us](https://api.zippopotam.us) API to gather latitude and longitude information on each city, and add columns named `lat` and `lon` containing the latitude and longitude data for each city, respectively. Once you have done that, map all of the cities using their latitude and longitude data on a map with `scope=usa`. Store the map as a variable called `fig`.\n",
    "\n",
    "*Hints:* \n",
    "1. If you use my code from the notes above, you can't use the projection that I used with `scope=\"usa\"`. Get rid of the `projection` argument and replace it with the scope argument.\n",
    "2. You just need to grab a single latitude and longitude for the cities. I recommend using the first one in the list.\n",
    "\n",
    "You will be graded on the following:\n",
    "- Created columns named `lat` and `lon` in the `capitals` Data Frame [1 point]\n",
    "- `lat` contains correct latitude for the city [1 point]\n",
    "- `lon` contains correct longitude for the city [1 point]\n",
    "- Map (store as `fig`) displays capitals based on latitude and longitude values [1 point]"
   ]
  },
  {
   "cell_type": "code",
   "id": "a0d72710-b6ed-4b30-83c1-3ae157bbda5e",
   "metadata": {
    "ExecuteTime": {
     "end_time": "2024-11-06T18:17:26.993025Z",
     "start_time": "2024-11-06T18:17:11.898723Z"
    }
   },
   "source": [
    "#si-exercise\n",
    "\n",
    "import pandas as pd\n",
    "import plotly.express as px\n",
    "import requests\n",
    "from urllib.parse import quote\n",
    "\n",
    "# Sample DataFrame of U.S. states and capitals\n",
    "capitals = pd.DataFrame([\n",
    "    [\"Alabama\", \"Montgomery\", \"AL\"],\n",
    "    [\"Alaska\", \"Juneau\", \"AK\"],\n",
    "    [\"Arizona\", \"Phoenix\", \"AZ\"],\n",
    "    [\"Arkansas\", \"Little Rock\", \"AR\"],\n",
    "    [\"California\", \"Sacramento\", \"CA\"],\n",
    "    [\"Colorado\", \"Denver\", \"CO\"],\n",
    "    [\"Connecticut\", \"Hartford\", \"CT\"],\n",
    "    [\"Delaware\", \"Dover\", \"DE\"],\n",
    "    [\"Florida\", \"Tallahassee\", \"FL\"],\n",
    "    [\"Georgia\", \"Atlanta\", \"GA\"],\n",
    "    [\"Hawaii\", \"Honolulu\", \"HI\"],\n",
    "    [\"Idaho\", \"Boise\", \"ID\"],\n",
    "    [\"Illinois\", \"Springfield\", \"IL\"],\n",
    "    [\"Indiana\", \"Indianapolis\", \"IN\"],\n",
    "    [\"Iowa\", \"Des Moines\", \"IA\"],\n",
    "    [\"Kansas\", \"Topeka\", \"KS\"],\n",
    "    [\"Kentucky\", \"Frankfort\", \"KY\"],\n",
    "    [\"Louisiana\", \"Baton Rouge\", \"LA\"],\n",
    "    [\"Maine\", \"Augusta\", \"ME\"],\n",
    "    [\"Maryland\", \"Annapolis\", \"MD\"],\n",
    "    [\"Massachusetts\", \"Boston\", \"MA\"],\n",
    "    [\"Michigan\", \"Lansing\", \"MI\"],\n",
    "    [\"Minnesota\", \"Saint Paul\", \"MN\"],\n",
    "    [\"Mississippi\", \"Jackson\", \"MS\"],\n",
    "    [\"Missouri\", \"Jefferson City\", \"MO\"],\n",
    "    [\"Montana\", \"Helena\", \"MT\"],\n",
    "    [\"Nebraska\", \"Lincoln\", \"NE\"],\n",
    "    [\"Nevada\", \"Carson City\", \"NV\"],\n",
    "    [\"New Hampshire\", \"Concord\", \"NH\"],\n",
    "    [\"New Jersey\", \"Trenton\", \"NJ\"],\n",
    "    [\"New Mexico\", \"Santa Fe\", \"NM\"],\n",
    "    [\"New York\", \"Albany\", \"NY\"],\n",
    "    [\"North Carolina\", \"Raleigh\", \"NC\"],\n",
    "    [\"North Dakota\", \"Bismarck\", \"ND\"],\n",
    "    [\"Ohio\", \"Columbus\", \"OH\"],\n",
    "    [\"Oklahoma\", \"Oklahoma City\", \"OK\"],\n",
    "    [\"Oregon\", \"Salem\", \"OR\"],\n",
    "    [\"Pennsylvania\", \"Harrisburg\", \"PA\"],\n",
    "    [\"Rhode Island\", \"Providence\", \"RI\"],\n",
    "    [\"South Carolina\", \"Columbia\", \"SC\"],\n",
    "    [\"South Dakota\", \"Pierre\", \"SD\"],\n",
    "    [\"Tennessee\", \"Nashville\", \"TN\"],\n",
    "    [\"Texas\", \"Austin\", \"TX\"],\n",
    "    [\"Utah\", \"Salt Lake City\", \"UT\"],\n",
    "    [\"Vermont\", \"Montpelier\", \"VT\"],\n",
    "    [\"Virginia\", \"Richmond\", \"VA\"],\n",
    "    [\"Washington\", \"Olympia\", \"WA\"],\n",
    "    [\"West Virginia\", \"Charleston\", \"WV\"],\n",
    "    [\"Wisconsin\", \"Madison\", \"WI\"],\n",
    "    [\"Wyoming\", \"Cheyenne\", \"WY\"]\n",
    "], columns=['state', 'capital', 'abbrev'])\n",
    "\n",
    "# Function to fetch latitude and longitude using Zippopotam.us API\n",
    "def get_lat_lon(abbrev, city):\n",
    "    url = f\"https://api.zippopotam.us/us/{abbrev}/{quote(city)}\"\n",
    "    try:\n",
    "        response = requests.get(url)\n",
    "        response.raise_for_status()  # Check for successful response\n",
    "        data = response.json()\n",
    "        if len(data['places']) > 0:\n",
    "            lat = float(data['places'][0]['latitude'])\n",
    "            lon = float(data['places'][0]['longitude'])\n",
    "            return lat, lon\n",
    "    except (requests.exceptions.RequestException, KeyError) as e:\n",
    "        print(f\"Error fetching data for {city}, {abbrev}: {e}\")\n",
    "    return None, None\n",
    "\n",
    "# Apply the function to each row and fetch latitudes and longitudes\n",
    "capitals[['lat', 'lon']] = capitals.apply(lambda row: pd.Series(get_lat_lon(row['abbrev'], row['capital'])), axis=1)\n",
    "\n",
    "# Filter out rows where latitude or longitude is missing\n",
    "capitals_filtered = capitals.dropna(subset=['lat', 'lon'])\n",
    "\n",
    "# Plot the data\n",
    "fig = px.scatter_geo(capitals_filtered,\n",
    "                     lat='lat',\n",
    "                     lon='lon',\n",
    "                     hover_name='capital',\n",
    "                     locationmode='USA-states',\n",
    "                     scope='usa',\n",
    "                     title=\"Capital Cities of the United States\")\n",
    "\n",
    "fig.show()\n",
    "\n"
   ],
   "outputs": [
    {
     "data": {
      "application/vnd.plotly.v1+json": {
       "data": [
        {
         "geo": "geo",
         "hovertemplate": "<b>%{hovertext}</b><br><br>lat=%{lat}<br>lon=%{lon}<extra></extra>",
         "hovertext": [
          "Montgomery",
          "Juneau",
          "Phoenix",
          "Little Rock",
          "Sacramento",
          "Denver",
          "Hartford",
          "Dover",
          "Tallahassee",
          "Atlanta",
          "Honolulu",
          "Boise",
          "Springfield",
          "Indianapolis",
          "Des Moines",
          "Topeka",
          "Frankfort",
          "Baton Rouge",
          "Augusta",
          "Annapolis",
          "Boston",
          "Lansing",
          "Saint Paul",
          "Jackson",
          "Jefferson City",
          "Helena",
          "Lincoln",
          "Carson City",
          "Concord",
          "Trenton",
          "Santa Fe",
          "Albany",
          "Raleigh",
          "Bismarck",
          "Columbus",
          "Oklahoma City",
          "Salem",
          "Harrisburg",
          "Providence",
          "Columbia",
          "Pierre",
          "Nashville",
          "Austin",
          "Salt Lake City",
          "Montpelier",
          "Richmond",
          "Olympia",
          "Charleston",
          "Madison",
          "Cheyenne"
         ],
         "lat": [
          32.357,
          58.3628,
          33.704,
          34.9074,
          38.3805,
          39.7263,
          41.8468,
          39.1564,
          30.4286,
          33.8444,
          24.8598,
          43.6038,
          39.8,
          39.775,
          41.5805,
          38.9881,
          38.2281,
          30.4492,
          44.3232,
          39.1332,
          42.3706,
          42.7388,
          44.8344,
          32.3205,
          38.5462,
          46.6131,
          40.8651,
          39.1507,
          43.2185,
          40.2805,
          35.6975,
          42.6149,
          35.7727,
          46.8234,
          40.0999,
          35.3513,
          44.949,
          40.2618,
          41.8228,
          33.995,
          44.3695,
          36.1657,
          30.3264,
          40.7559,
          44.1991,
          37.5242,
          47.0129,
          38.349,
          43.0696,
          41.1437
         ],
         "legendgroup": "",
         "locationmode": "USA-states",
         "lon": [
          -86.2578,
          -134.5294,
          -112.3518,
          -92.1397,
          -121.5554,
          -104.8568,
          -73.0104,
          -75.4955,
          -84.2593,
          -84.474,
          -168.0218,
          -116.2729,
          -89.6495,
          -86.1093,
          -93.7447,
          -95.7807,
          -84.8697,
          -91.1856,
          -69.7665,
          -76.7988,
          -71.027,
          -84.4764,
          -92.9873,
          -90.2076,
          -92.1525,
          -112.0213,
          -96.8231,
          -119.7459,
          -71.5277,
          -74.712,
          -105.9821,
          -73.9708,
          -78.6324,
          -100.7748,
          -83.0157,
          -97.4953,
          -123.004,
          -76.8831,
          -71.4145,
          -81.0888,
          -100.3211,
          -86.7781,
          -97.7713,
          -111.8967,
          -72.5596,
          -77.4932,
          -122.8763,
          -81.6306,
          -89.4239,
          -104.7962
         ],
         "marker": {
          "color": "#636efa",
          "symbol": "circle"
         },
         "mode": "markers",
         "name": "",
         "showlegend": false,
         "type": "scattergeo"
        }
       ],
       "layout": {
        "template": {
         "data": {
          "histogram2dcontour": [
           {
            "type": "histogram2dcontour",
            "colorbar": {
             "outlinewidth": 0,
             "ticks": ""
            },
            "colorscale": [
             [
              0.0,
              "#0d0887"
             ],
             [
              0.1111111111111111,
              "#46039f"
             ],
             [
              0.2222222222222222,
              "#7201a8"
             ],
             [
              0.3333333333333333,
              "#9c179e"
             ],
             [
              0.4444444444444444,
              "#bd3786"
             ],
             [
              0.5555555555555556,
              "#d8576b"
             ],
             [
              0.6666666666666666,
              "#ed7953"
             ],
             [
              0.7777777777777778,
              "#fb9f3a"
             ],
             [
              0.8888888888888888,
              "#fdca26"
             ],
             [
              1.0,
              "#f0f921"
             ]
            ]
           }
          ],
          "choropleth": [
           {
            "type": "choropleth",
            "colorbar": {
             "outlinewidth": 0,
             "ticks": ""
            }
           }
          ],
          "histogram2d": [
           {
            "type": "histogram2d",
            "colorbar": {
             "outlinewidth": 0,
             "ticks": ""
            },
            "colorscale": [
             [
              0.0,
              "#0d0887"
             ],
             [
              0.1111111111111111,
              "#46039f"
             ],
             [
              0.2222222222222222,
              "#7201a8"
             ],
             [
              0.3333333333333333,
              "#9c179e"
             ],
             [
              0.4444444444444444,
              "#bd3786"
             ],
             [
              0.5555555555555556,
              "#d8576b"
             ],
             [
              0.6666666666666666,
              "#ed7953"
             ],
             [
              0.7777777777777778,
              "#fb9f3a"
             ],
             [
              0.8888888888888888,
              "#fdca26"
             ],
             [
              1.0,
              "#f0f921"
             ]
            ]
           }
          ],
          "heatmap": [
           {
            "type": "heatmap",
            "colorbar": {
             "outlinewidth": 0,
             "ticks": ""
            },
            "colorscale": [
             [
              0.0,
              "#0d0887"
             ],
             [
              0.1111111111111111,
              "#46039f"
             ],
             [
              0.2222222222222222,
              "#7201a8"
             ],
             [
              0.3333333333333333,
              "#9c179e"
             ],
             [
              0.4444444444444444,
              "#bd3786"
             ],
             [
              0.5555555555555556,
              "#d8576b"
             ],
             [
              0.6666666666666666,
              "#ed7953"
             ],
             [
              0.7777777777777778,
              "#fb9f3a"
             ],
             [
              0.8888888888888888,
              "#fdca26"
             ],
             [
              1.0,
              "#f0f921"
             ]
            ]
           }
          ],
          "heatmapgl": [
           {
            "type": "heatmapgl",
            "colorbar": {
             "outlinewidth": 0,
             "ticks": ""
            },
            "colorscale": [
             [
              0.0,
              "#0d0887"
             ],
             [
              0.1111111111111111,
              "#46039f"
             ],
             [
              0.2222222222222222,
              "#7201a8"
             ],
             [
              0.3333333333333333,
              "#9c179e"
             ],
             [
              0.4444444444444444,
              "#bd3786"
             ],
             [
              0.5555555555555556,
              "#d8576b"
             ],
             [
              0.6666666666666666,
              "#ed7953"
             ],
             [
              0.7777777777777778,
              "#fb9f3a"
             ],
             [
              0.8888888888888888,
              "#fdca26"
             ],
             [
              1.0,
              "#f0f921"
             ]
            ]
           }
          ],
          "contourcarpet": [
           {
            "type": "contourcarpet",
            "colorbar": {
             "outlinewidth": 0,
             "ticks": ""
            }
           }
          ],
          "contour": [
           {
            "type": "contour",
            "colorbar": {
             "outlinewidth": 0,
             "ticks": ""
            },
            "colorscale": [
             [
              0.0,
              "#0d0887"
             ],
             [
              0.1111111111111111,
              "#46039f"
             ],
             [
              0.2222222222222222,
              "#7201a8"
             ],
             [
              0.3333333333333333,
              "#9c179e"
             ],
             [
              0.4444444444444444,
              "#bd3786"
             ],
             [
              0.5555555555555556,
              "#d8576b"
             ],
             [
              0.6666666666666666,
              "#ed7953"
             ],
             [
              0.7777777777777778,
              "#fb9f3a"
             ],
             [
              0.8888888888888888,
              "#fdca26"
             ],
             [
              1.0,
              "#f0f921"
             ]
            ]
           }
          ],
          "surface": [
           {
            "type": "surface",
            "colorbar": {
             "outlinewidth": 0,
             "ticks": ""
            },
            "colorscale": [
             [
              0.0,
              "#0d0887"
             ],
             [
              0.1111111111111111,
              "#46039f"
             ],
             [
              0.2222222222222222,
              "#7201a8"
             ],
             [
              0.3333333333333333,
              "#9c179e"
             ],
             [
              0.4444444444444444,
              "#bd3786"
             ],
             [
              0.5555555555555556,
              "#d8576b"
             ],
             [
              0.6666666666666666,
              "#ed7953"
             ],
             [
              0.7777777777777778,
              "#fb9f3a"
             ],
             [
              0.8888888888888888,
              "#fdca26"
             ],
             [
              1.0,
              "#f0f921"
             ]
            ]
           }
          ],
          "mesh3d": [
           {
            "type": "mesh3d",
            "colorbar": {
             "outlinewidth": 0,
             "ticks": ""
            }
           }
          ],
          "scatter": [
           {
            "marker": {
             "line": {
              "color": "#283442"
             }
            },
            "type": "scatter"
           }
          ],
          "parcoords": [
           {
            "type": "parcoords",
            "line": {
             "colorbar": {
              "outlinewidth": 0,
              "ticks": ""
             }
            }
           }
          ],
          "scatterpolargl": [
           {
            "type": "scatterpolargl",
            "marker": {
             "colorbar": {
              "outlinewidth": 0,
              "ticks": ""
             }
            }
           }
          ],
          "bar": [
           {
            "error_x": {
             "color": "#f2f5fa"
            },
            "error_y": {
             "color": "#f2f5fa"
            },
            "marker": {
             "line": {
              "color": "rgb(17,17,17)",
              "width": 0.5
             },
             "pattern": {
              "fillmode": "overlay",
              "size": 10,
              "solidity": 0.2
             }
            },
            "type": "bar"
           }
          ],
          "scattergeo": [
           {
            "type": "scattergeo",
            "marker": {
             "colorbar": {
              "outlinewidth": 0,
              "ticks": ""
             }
            }
           }
          ],
          "scatterpolar": [
           {
            "type": "scatterpolar",
            "marker": {
             "colorbar": {
              "outlinewidth": 0,
              "ticks": ""
             }
            }
           }
          ],
          "histogram": [
           {
            "marker": {
             "pattern": {
              "fillmode": "overlay",
              "size": 10,
              "solidity": 0.2
             }
            },
            "type": "histogram"
           }
          ],
          "scattergl": [
           {
            "marker": {
             "line": {
              "color": "#283442"
             }
            },
            "type": "scattergl"
           }
          ],
          "scatter3d": [
           {
            "type": "scatter3d",
            "line": {
             "colorbar": {
              "outlinewidth": 0,
              "ticks": ""
             }
            },
            "marker": {
             "colorbar": {
              "outlinewidth": 0,
              "ticks": ""
             }
            }
           }
          ],
          "scattermapbox": [
           {
            "type": "scattermapbox",
            "marker": {
             "colorbar": {
              "outlinewidth": 0,
              "ticks": ""
             }
            }
           }
          ],
          "scatterternary": [
           {
            "type": "scatterternary",
            "marker": {
             "colorbar": {
              "outlinewidth": 0,
              "ticks": ""
             }
            }
           }
          ],
          "scattercarpet": [
           {
            "type": "scattercarpet",
            "marker": {
             "colorbar": {
              "outlinewidth": 0,
              "ticks": ""
             }
            }
           }
          ],
          "carpet": [
           {
            "aaxis": {
             "endlinecolor": "#A2B1C6",
             "gridcolor": "#506784",
             "linecolor": "#506784",
             "minorgridcolor": "#506784",
             "startlinecolor": "#A2B1C6"
            },
            "baxis": {
             "endlinecolor": "#A2B1C6",
             "gridcolor": "#506784",
             "linecolor": "#506784",
             "minorgridcolor": "#506784",
             "startlinecolor": "#A2B1C6"
            },
            "type": "carpet"
           }
          ],
          "table": [
           {
            "cells": {
             "fill": {
              "color": "#506784"
             },
             "line": {
              "color": "rgb(17,17,17)"
             }
            },
            "header": {
             "fill": {
              "color": "#2a3f5f"
             },
             "line": {
              "color": "rgb(17,17,17)"
             }
            },
            "type": "table"
           }
          ],
          "barpolar": [
           {
            "marker": {
             "line": {
              "color": "rgb(17,17,17)",
              "width": 0.5
             },
             "pattern": {
              "fillmode": "overlay",
              "size": 10,
              "solidity": 0.2
             }
            },
            "type": "barpolar"
           }
          ],
          "pie": [
           {
            "automargin": true,
            "type": "pie"
           }
          ]
         },
         "layout": {
          "autotypenumbers": "strict",
          "colorway": [
           "#636efa",
           "#EF553B",
           "#00cc96",
           "#ab63fa",
           "#FFA15A",
           "#19d3f3",
           "#FF6692",
           "#B6E880",
           "#FF97FF",
           "#FECB52"
          ],
          "font": {
           "color": "#f2f5fa"
          },
          "hovermode": "closest",
          "hoverlabel": {
           "align": "left"
          },
          "paper_bgcolor": "rgb(17,17,17)",
          "plot_bgcolor": "rgb(17,17,17)",
          "polar": {
           "bgcolor": "rgb(17,17,17)",
           "angularaxis": {
            "gridcolor": "#506784",
            "linecolor": "#506784",
            "ticks": ""
           },
           "radialaxis": {
            "gridcolor": "#506784",
            "linecolor": "#506784",
            "ticks": ""
           }
          },
          "ternary": {
           "bgcolor": "rgb(17,17,17)",
           "aaxis": {
            "gridcolor": "#506784",
            "linecolor": "#506784",
            "ticks": ""
           },
           "baxis": {
            "gridcolor": "#506784",
            "linecolor": "#506784",
            "ticks": ""
           },
           "caxis": {
            "gridcolor": "#506784",
            "linecolor": "#506784",
            "ticks": ""
           }
          },
          "coloraxis": {
           "colorbar": {
            "outlinewidth": 0,
            "ticks": ""
           }
          },
          "colorscale": {
           "sequential": [
            [
             0.0,
             "#0d0887"
            ],
            [
             0.1111111111111111,
             "#46039f"
            ],
            [
             0.2222222222222222,
             "#7201a8"
            ],
            [
             0.3333333333333333,
             "#9c179e"
            ],
            [
             0.4444444444444444,
             "#bd3786"
            ],
            [
             0.5555555555555556,
             "#d8576b"
            ],
            [
             0.6666666666666666,
             "#ed7953"
            ],
            [
             0.7777777777777778,
             "#fb9f3a"
            ],
            [
             0.8888888888888888,
             "#fdca26"
            ],
            [
             1.0,
             "#f0f921"
            ]
           ],
           "sequentialminus": [
            [
             0.0,
             "#0d0887"
            ],
            [
             0.1111111111111111,
             "#46039f"
            ],
            [
             0.2222222222222222,
             "#7201a8"
            ],
            [
             0.3333333333333333,
             "#9c179e"
            ],
            [
             0.4444444444444444,
             "#bd3786"
            ],
            [
             0.5555555555555556,
             "#d8576b"
            ],
            [
             0.6666666666666666,
             "#ed7953"
            ],
            [
             0.7777777777777778,
             "#fb9f3a"
            ],
            [
             0.8888888888888888,
             "#fdca26"
            ],
            [
             1.0,
             "#f0f921"
            ]
           ],
           "diverging": [
            [
             0,
             "#8e0152"
            ],
            [
             0.1,
             "#c51b7d"
            ],
            [
             0.2,
             "#de77ae"
            ],
            [
             0.3,
             "#f1b6da"
            ],
            [
             0.4,
             "#fde0ef"
            ],
            [
             0.5,
             "#f7f7f7"
            ],
            [
             0.6,
             "#e6f5d0"
            ],
            [
             0.7,
             "#b8e186"
            ],
            [
             0.8,
             "#7fbc41"
            ],
            [
             0.9,
             "#4d9221"
            ],
            [
             1,
             "#276419"
            ]
           ]
          },
          "xaxis": {
           "gridcolor": "#283442",
           "linecolor": "#506784",
           "ticks": "",
           "title": {
            "standoff": 15
           },
           "zerolinecolor": "#283442",
           "automargin": true,
           "zerolinewidth": 2
          },
          "yaxis": {
           "gridcolor": "#283442",
           "linecolor": "#506784",
           "ticks": "",
           "title": {
            "standoff": 15
           },
           "zerolinecolor": "#283442",
           "automargin": true,
           "zerolinewidth": 2
          },
          "scene": {
           "xaxis": {
            "backgroundcolor": "rgb(17,17,17)",
            "gridcolor": "#506784",
            "linecolor": "#506784",
            "showbackground": true,
            "ticks": "",
            "zerolinecolor": "#C8D4E3",
            "gridwidth": 2
           },
           "yaxis": {
            "backgroundcolor": "rgb(17,17,17)",
            "gridcolor": "#506784",
            "linecolor": "#506784",
            "showbackground": true,
            "ticks": "",
            "zerolinecolor": "#C8D4E3",
            "gridwidth": 2
           },
           "zaxis": {
            "backgroundcolor": "rgb(17,17,17)",
            "gridcolor": "#506784",
            "linecolor": "#506784",
            "showbackground": true,
            "ticks": "",
            "zerolinecolor": "#C8D4E3",
            "gridwidth": 2
           }
          },
          "shapedefaults": {
           "line": {
            "color": "#f2f5fa"
           }
          },
          "annotationdefaults": {
           "arrowcolor": "#f2f5fa",
           "arrowhead": 0,
           "arrowwidth": 1
          },
          "geo": {
           "bgcolor": "rgb(17,17,17)",
           "landcolor": "rgb(17,17,17)",
           "subunitcolor": "#506784",
           "showland": true,
           "showlakes": true,
           "lakecolor": "rgb(17,17,17)"
          },
          "title": {
           "x": 0.05
          },
          "updatemenudefaults": {
           "bgcolor": "#506784",
           "borderwidth": 0
          },
          "sliderdefaults": {
           "bgcolor": "#C8D4E3",
           "borderwidth": 1,
           "bordercolor": "rgb(17,17,17)",
           "tickwidth": 0
          },
          "mapbox": {
           "style": "dark"
          }
         }
        },
        "geo": {
         "domain": {
          "x": [
           0.0,
           1.0
          ],
          "y": [
           0.0,
           1.0
          ]
         },
         "center": {},
         "scope": "usa"
        },
        "legend": {
         "tracegroupgap": 0
        },
        "title": {
         "text": "Capital Cities of the United States"
        }
       },
       "config": {
        "plotlyServerURL": "https://plot.ly"
       }
      },
      "text/html": [
       "<div>                            <div id=\"a2251e66-662d-4972-8d15-a4fa72cd1ffd\" class=\"plotly-graph-div\" style=\"height:525px; width:100%;\"></div>            <script type=\"text/javascript\">                require([\"plotly\"], function(Plotly) {                    window.PLOTLYENV=window.PLOTLYENV || {};                                    if (document.getElementById(\"a2251e66-662d-4972-8d15-a4fa72cd1ffd\")) {                    Plotly.newPlot(                        \"a2251e66-662d-4972-8d15-a4fa72cd1ffd\",                        [{\"geo\":\"geo\",\"hovertemplate\":\"\\u003cb\\u003e%{hovertext}\\u003c\\u002fb\\u003e\\u003cbr\\u003e\\u003cbr\\u003elat=%{lat}\\u003cbr\\u003elon=%{lon}\\u003cextra\\u003e\\u003c\\u002fextra\\u003e\",\"hovertext\":[\"Montgomery\",\"Juneau\",\"Phoenix\",\"Little Rock\",\"Sacramento\",\"Denver\",\"Hartford\",\"Dover\",\"Tallahassee\",\"Atlanta\",\"Honolulu\",\"Boise\",\"Springfield\",\"Indianapolis\",\"Des Moines\",\"Topeka\",\"Frankfort\",\"Baton Rouge\",\"Augusta\",\"Annapolis\",\"Boston\",\"Lansing\",\"Saint Paul\",\"Jackson\",\"Jefferson City\",\"Helena\",\"Lincoln\",\"Carson City\",\"Concord\",\"Trenton\",\"Santa Fe\",\"Albany\",\"Raleigh\",\"Bismarck\",\"Columbus\",\"Oklahoma City\",\"Salem\",\"Harrisburg\",\"Providence\",\"Columbia\",\"Pierre\",\"Nashville\",\"Austin\",\"Salt Lake City\",\"Montpelier\",\"Richmond\",\"Olympia\",\"Charleston\",\"Madison\",\"Cheyenne\"],\"lat\":[32.357,58.3628,33.704,34.9074,38.3805,39.7263,41.8468,39.1564,30.4286,33.8444,24.8598,43.6038,39.8,39.775,41.5805,38.9881,38.2281,30.4492,44.3232,39.1332,42.3706,42.7388,44.8344,32.3205,38.5462,46.6131,40.8651,39.1507,43.2185,40.2805,35.6975,42.6149,35.7727,46.8234,40.0999,35.3513,44.949,40.2618,41.8228,33.995,44.3695,36.1657,30.3264,40.7559,44.1991,37.5242,47.0129,38.349,43.0696,41.1437],\"legendgroup\":\"\",\"locationmode\":\"USA-states\",\"lon\":[-86.2578,-134.5294,-112.3518,-92.1397,-121.5554,-104.8568,-73.0104,-75.4955,-84.2593,-84.474,-168.0218,-116.2729,-89.6495,-86.1093,-93.7447,-95.7807,-84.8697,-91.1856,-69.7665,-76.7988,-71.027,-84.4764,-92.9873,-90.2076,-92.1525,-112.0213,-96.8231,-119.7459,-71.5277,-74.712,-105.9821,-73.9708,-78.6324,-100.7748,-83.0157,-97.4953,-123.004,-76.8831,-71.4145,-81.0888,-100.3211,-86.7781,-97.7713,-111.8967,-72.5596,-77.4932,-122.8763,-81.6306,-89.4239,-104.7962],\"marker\":{\"color\":\"#636efa\",\"symbol\":\"circle\"},\"mode\":\"markers\",\"name\":\"\",\"showlegend\":false,\"type\":\"scattergeo\"}],                        {\"template\":{\"data\":{\"histogram2dcontour\":[{\"type\":\"histogram2dcontour\",\"colorbar\":{\"outlinewidth\":0,\"ticks\":\"\"},\"colorscale\":[[0.0,\"#0d0887\"],[0.1111111111111111,\"#46039f\"],[0.2222222222222222,\"#7201a8\"],[0.3333333333333333,\"#9c179e\"],[0.4444444444444444,\"#bd3786\"],[0.5555555555555556,\"#d8576b\"],[0.6666666666666666,\"#ed7953\"],[0.7777777777777778,\"#fb9f3a\"],[0.8888888888888888,\"#fdca26\"],[1.0,\"#f0f921\"]]}],\"choropleth\":[{\"type\":\"choropleth\",\"colorbar\":{\"outlinewidth\":0,\"ticks\":\"\"}}],\"histogram2d\":[{\"type\":\"histogram2d\",\"colorbar\":{\"outlinewidth\":0,\"ticks\":\"\"},\"colorscale\":[[0.0,\"#0d0887\"],[0.1111111111111111,\"#46039f\"],[0.2222222222222222,\"#7201a8\"],[0.3333333333333333,\"#9c179e\"],[0.4444444444444444,\"#bd3786\"],[0.5555555555555556,\"#d8576b\"],[0.6666666666666666,\"#ed7953\"],[0.7777777777777778,\"#fb9f3a\"],[0.8888888888888888,\"#fdca26\"],[1.0,\"#f0f921\"]]}],\"heatmap\":[{\"type\":\"heatmap\",\"colorbar\":{\"outlinewidth\":0,\"ticks\":\"\"},\"colorscale\":[[0.0,\"#0d0887\"],[0.1111111111111111,\"#46039f\"],[0.2222222222222222,\"#7201a8\"],[0.3333333333333333,\"#9c179e\"],[0.4444444444444444,\"#bd3786\"],[0.5555555555555556,\"#d8576b\"],[0.6666666666666666,\"#ed7953\"],[0.7777777777777778,\"#fb9f3a\"],[0.8888888888888888,\"#fdca26\"],[1.0,\"#f0f921\"]]}],\"heatmapgl\":[{\"type\":\"heatmapgl\",\"colorbar\":{\"outlinewidth\":0,\"ticks\":\"\"},\"colorscale\":[[0.0,\"#0d0887\"],[0.1111111111111111,\"#46039f\"],[0.2222222222222222,\"#7201a8\"],[0.3333333333333333,\"#9c179e\"],[0.4444444444444444,\"#bd3786\"],[0.5555555555555556,\"#d8576b\"],[0.6666666666666666,\"#ed7953\"],[0.7777777777777778,\"#fb9f3a\"],[0.8888888888888888,\"#fdca26\"],[1.0,\"#f0f921\"]]}],\"contourcarpet\":[{\"type\":\"contourcarpet\",\"colorbar\":{\"outlinewidth\":0,\"ticks\":\"\"}}],\"contour\":[{\"type\":\"contour\",\"colorbar\":{\"outlinewidth\":0,\"ticks\":\"\"},\"colorscale\":[[0.0,\"#0d0887\"],[0.1111111111111111,\"#46039f\"],[0.2222222222222222,\"#7201a8\"],[0.3333333333333333,\"#9c179e\"],[0.4444444444444444,\"#bd3786\"],[0.5555555555555556,\"#d8576b\"],[0.6666666666666666,\"#ed7953\"],[0.7777777777777778,\"#fb9f3a\"],[0.8888888888888888,\"#fdca26\"],[1.0,\"#f0f921\"]]}],\"surface\":[{\"type\":\"surface\",\"colorbar\":{\"outlinewidth\":0,\"ticks\":\"\"},\"colorscale\":[[0.0,\"#0d0887\"],[0.1111111111111111,\"#46039f\"],[0.2222222222222222,\"#7201a8\"],[0.3333333333333333,\"#9c179e\"],[0.4444444444444444,\"#bd3786\"],[0.5555555555555556,\"#d8576b\"],[0.6666666666666666,\"#ed7953\"],[0.7777777777777778,\"#fb9f3a\"],[0.8888888888888888,\"#fdca26\"],[1.0,\"#f0f921\"]]}],\"mesh3d\":[{\"type\":\"mesh3d\",\"colorbar\":{\"outlinewidth\":0,\"ticks\":\"\"}}],\"scatter\":[{\"marker\":{\"line\":{\"color\":\"#283442\"}},\"type\":\"scatter\"}],\"parcoords\":[{\"type\":\"parcoords\",\"line\":{\"colorbar\":{\"outlinewidth\":0,\"ticks\":\"\"}}}],\"scatterpolargl\":[{\"type\":\"scatterpolargl\",\"marker\":{\"colorbar\":{\"outlinewidth\":0,\"ticks\":\"\"}}}],\"bar\":[{\"error_x\":{\"color\":\"#f2f5fa\"},\"error_y\":{\"color\":\"#f2f5fa\"},\"marker\":{\"line\":{\"color\":\"rgb(17,17,17)\",\"width\":0.5},\"pattern\":{\"fillmode\":\"overlay\",\"size\":10,\"solidity\":0.2}},\"type\":\"bar\"}],\"scattergeo\":[{\"type\":\"scattergeo\",\"marker\":{\"colorbar\":{\"outlinewidth\":0,\"ticks\":\"\"}}}],\"scatterpolar\":[{\"type\":\"scatterpolar\",\"marker\":{\"colorbar\":{\"outlinewidth\":0,\"ticks\":\"\"}}}],\"histogram\":[{\"marker\":{\"pattern\":{\"fillmode\":\"overlay\",\"size\":10,\"solidity\":0.2}},\"type\":\"histogram\"}],\"scattergl\":[{\"marker\":{\"line\":{\"color\":\"#283442\"}},\"type\":\"scattergl\"}],\"scatter3d\":[{\"type\":\"scatter3d\",\"line\":{\"colorbar\":{\"outlinewidth\":0,\"ticks\":\"\"}},\"marker\":{\"colorbar\":{\"outlinewidth\":0,\"ticks\":\"\"}}}],\"scattermapbox\":[{\"type\":\"scattermapbox\",\"marker\":{\"colorbar\":{\"outlinewidth\":0,\"ticks\":\"\"}}}],\"scatterternary\":[{\"type\":\"scatterternary\",\"marker\":{\"colorbar\":{\"outlinewidth\":0,\"ticks\":\"\"}}}],\"scattercarpet\":[{\"type\":\"scattercarpet\",\"marker\":{\"colorbar\":{\"outlinewidth\":0,\"ticks\":\"\"}}}],\"carpet\":[{\"aaxis\":{\"endlinecolor\":\"#A2B1C6\",\"gridcolor\":\"#506784\",\"linecolor\":\"#506784\",\"minorgridcolor\":\"#506784\",\"startlinecolor\":\"#A2B1C6\"},\"baxis\":{\"endlinecolor\":\"#A2B1C6\",\"gridcolor\":\"#506784\",\"linecolor\":\"#506784\",\"minorgridcolor\":\"#506784\",\"startlinecolor\":\"#A2B1C6\"},\"type\":\"carpet\"}],\"table\":[{\"cells\":{\"fill\":{\"color\":\"#506784\"},\"line\":{\"color\":\"rgb(17,17,17)\"}},\"header\":{\"fill\":{\"color\":\"#2a3f5f\"},\"line\":{\"color\":\"rgb(17,17,17)\"}},\"type\":\"table\"}],\"barpolar\":[{\"marker\":{\"line\":{\"color\":\"rgb(17,17,17)\",\"width\":0.5},\"pattern\":{\"fillmode\":\"overlay\",\"size\":10,\"solidity\":0.2}},\"type\":\"barpolar\"}],\"pie\":[{\"automargin\":true,\"type\":\"pie\"}]},\"layout\":{\"autotypenumbers\":\"strict\",\"colorway\":[\"#636efa\",\"#EF553B\",\"#00cc96\",\"#ab63fa\",\"#FFA15A\",\"#19d3f3\",\"#FF6692\",\"#B6E880\",\"#FF97FF\",\"#FECB52\"],\"font\":{\"color\":\"#f2f5fa\"},\"hovermode\":\"closest\",\"hoverlabel\":{\"align\":\"left\"},\"paper_bgcolor\":\"rgb(17,17,17)\",\"plot_bgcolor\":\"rgb(17,17,17)\",\"polar\":{\"bgcolor\":\"rgb(17,17,17)\",\"angularaxis\":{\"gridcolor\":\"#506784\",\"linecolor\":\"#506784\",\"ticks\":\"\"},\"radialaxis\":{\"gridcolor\":\"#506784\",\"linecolor\":\"#506784\",\"ticks\":\"\"}},\"ternary\":{\"bgcolor\":\"rgb(17,17,17)\",\"aaxis\":{\"gridcolor\":\"#506784\",\"linecolor\":\"#506784\",\"ticks\":\"\"},\"baxis\":{\"gridcolor\":\"#506784\",\"linecolor\":\"#506784\",\"ticks\":\"\"},\"caxis\":{\"gridcolor\":\"#506784\",\"linecolor\":\"#506784\",\"ticks\":\"\"}},\"coloraxis\":{\"colorbar\":{\"outlinewidth\":0,\"ticks\":\"\"}},\"colorscale\":{\"sequential\":[[0.0,\"#0d0887\"],[0.1111111111111111,\"#46039f\"],[0.2222222222222222,\"#7201a8\"],[0.3333333333333333,\"#9c179e\"],[0.4444444444444444,\"#bd3786\"],[0.5555555555555556,\"#d8576b\"],[0.6666666666666666,\"#ed7953\"],[0.7777777777777778,\"#fb9f3a\"],[0.8888888888888888,\"#fdca26\"],[1.0,\"#f0f921\"]],\"sequentialminus\":[[0.0,\"#0d0887\"],[0.1111111111111111,\"#46039f\"],[0.2222222222222222,\"#7201a8\"],[0.3333333333333333,\"#9c179e\"],[0.4444444444444444,\"#bd3786\"],[0.5555555555555556,\"#d8576b\"],[0.6666666666666666,\"#ed7953\"],[0.7777777777777778,\"#fb9f3a\"],[0.8888888888888888,\"#fdca26\"],[1.0,\"#f0f921\"]],\"diverging\":[[0,\"#8e0152\"],[0.1,\"#c51b7d\"],[0.2,\"#de77ae\"],[0.3,\"#f1b6da\"],[0.4,\"#fde0ef\"],[0.5,\"#f7f7f7\"],[0.6,\"#e6f5d0\"],[0.7,\"#b8e186\"],[0.8,\"#7fbc41\"],[0.9,\"#4d9221\"],[1,\"#276419\"]]},\"xaxis\":{\"gridcolor\":\"#283442\",\"linecolor\":\"#506784\",\"ticks\":\"\",\"title\":{\"standoff\":15},\"zerolinecolor\":\"#283442\",\"automargin\":true,\"zerolinewidth\":2},\"yaxis\":{\"gridcolor\":\"#283442\",\"linecolor\":\"#506784\",\"ticks\":\"\",\"title\":{\"standoff\":15},\"zerolinecolor\":\"#283442\",\"automargin\":true,\"zerolinewidth\":2},\"scene\":{\"xaxis\":{\"backgroundcolor\":\"rgb(17,17,17)\",\"gridcolor\":\"#506784\",\"linecolor\":\"#506784\",\"showbackground\":true,\"ticks\":\"\",\"zerolinecolor\":\"#C8D4E3\",\"gridwidth\":2},\"yaxis\":{\"backgroundcolor\":\"rgb(17,17,17)\",\"gridcolor\":\"#506784\",\"linecolor\":\"#506784\",\"showbackground\":true,\"ticks\":\"\",\"zerolinecolor\":\"#C8D4E3\",\"gridwidth\":2},\"zaxis\":{\"backgroundcolor\":\"rgb(17,17,17)\",\"gridcolor\":\"#506784\",\"linecolor\":\"#506784\",\"showbackground\":true,\"ticks\":\"\",\"zerolinecolor\":\"#C8D4E3\",\"gridwidth\":2}},\"shapedefaults\":{\"line\":{\"color\":\"#f2f5fa\"}},\"annotationdefaults\":{\"arrowcolor\":\"#f2f5fa\",\"arrowhead\":0,\"arrowwidth\":1},\"geo\":{\"bgcolor\":\"rgb(17,17,17)\",\"landcolor\":\"rgb(17,17,17)\",\"subunitcolor\":\"#506784\",\"showland\":true,\"showlakes\":true,\"lakecolor\":\"rgb(17,17,17)\"},\"title\":{\"x\":0.05},\"updatemenudefaults\":{\"bgcolor\":\"#506784\",\"borderwidth\":0},\"sliderdefaults\":{\"bgcolor\":\"#C8D4E3\",\"borderwidth\":1,\"bordercolor\":\"rgb(17,17,17)\",\"tickwidth\":0},\"mapbox\":{\"style\":\"dark\"}}},\"geo\":{\"domain\":{\"x\":[0.0,1.0],\"y\":[0.0,1.0]},\"center\":{},\"scope\":\"usa\"},\"legend\":{\"tracegroupgap\":0},\"title\":{\"text\":\"Capital Cities of the United States\"}},                        {\"responsive\": true}                    ).then(function(){\n",
       "                            \n",
       "var gd = document.getElementById('a2251e66-662d-4972-8d15-a4fa72cd1ffd');\n",
       "var x = new MutationObserver(function (mutations, observer) {{\n",
       "        var display = window.getComputedStyle(gd).display;\n",
       "        if (!display || display === 'none') {{\n",
       "            console.log([gd, 'removed!']);\n",
       "            Plotly.purge(gd);\n",
       "            observer.disconnect();\n",
       "        }}\n",
       "}});\n",
       "\n",
       "// Listen for the removal of the full notebook cells\n",
       "var notebookContainer = gd.closest('#notebook-container');\n",
       "if (notebookContainer) {{\n",
       "    x.observe(notebookContainer, {childList: true});\n",
       "}}\n",
       "\n",
       "// Listen for the clearing of the current output cell\n",
       "var outputEl = gd.closest('.output');\n",
       "if (outputEl) {{\n",
       "    x.observe(outputEl, {childList: true});\n",
       "}}\n",
       "\n",
       "                        })                };                });            </script>        </div>"
      ]
     },
     "metadata": {},
     "output_type": "display_data"
    }
   ],
   "execution_count": 7
  }
 ],
 "metadata": {
  "kernelspec": {
   "display_name": "Python 3 (ipykernel)",
   "language": "python",
   "name": "python3"
  },
  "language_info": {
   "codemirror_mode": {
    "name": "ipython",
    "version": 3
   },
   "file_extension": ".py",
   "mimetype": "text/x-python",
   "name": "python",
   "nbconvert_exporter": "python",
   "pygments_lexer": "ipython3",
   "version": "3.9.13"
  }
 },
 "nbformat": 4,
 "nbformat_minor": 5
}
